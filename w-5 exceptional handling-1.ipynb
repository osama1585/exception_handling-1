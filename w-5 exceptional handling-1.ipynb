{
 "cells": [
  {
   "cell_type": "markdown",
   "id": "51447629-733a-4cf7-9fd0-ec1ddcae165b",
   "metadata": {},
   "source": [
    "Assignment"
   ]
  },
  {
   "cell_type": "markdown",
   "id": "6dfe8b2f-41ec-4d9a-95ed-7b8b93e416a7",
   "metadata": {},
   "source": [
    "***Exception handling-1***"
   ]
  },
  {
   "cell_type": "markdown",
   "id": "bab337af-0490-4344-a813-a0c12f4dbb91",
   "metadata": {},
   "source": [
    "Q1. What is an exception in python? what is the difference between Exceptions and Syntax errors."
   ]
  },
  {
   "cell_type": "markdown",
   "id": "7e35dc57-d41a-4faa-bd2b-c6eda42647e1",
   "metadata": {},
   "source": [
    "Ans-"
   ]
  },
  {
   "cell_type": "markdown",
   "id": "caa8cdeb-5846-4815-bdf9-3ebd1586d4a6",
   "metadata": {},
   "source": [
    "Exception allows you to handle errors gracefully by providing appropriate code to respond to these exceptional situations rather than letting the program crash."
   ]
  },
  {
   "cell_type": "markdown",
   "id": "72c6257e-391a-4ad1-a1a7-44cccfe1ed34",
   "metadata": {},
   "source": [
    "***Exceptions:***\n",
    "           1-exceptions occur during the execution \n",
    "           2-happen when a certain condition is met or an unexpected situation arises.\n",
    "           3-They are represented by exception classes and can be caught and handled using try and except blocks.\n"
   ]
  },
  {
   "cell_type": "markdown",
   "id": "fac024bd-57a1-49b3-8c99-b3104232600c",
   "metadata": {},
   "source": [
    "***Syntax Errors:***\n",
    "              1-occur before the program is executed\n",
    "              2- caused  by inproper used of syntax rule of python,missing colons missing missing incorrect things\n",
    "              3- These errors prevent the program from being executed at all and must be fixed in the code before running."
   ]
  },
  {
   "cell_type": "markdown",
   "id": "6b19b71c-8a95-473e-8208-3d357e268c7b",
   "metadata": {},
   "source": [
    "Q2. What happens when an exceptions in not handled? explain with an example."
   ]
  },
  {
   "cell_type": "markdown",
   "id": "e4bdc7fe-e07c-4f30-9106-cf9183e54261",
   "metadata": {},
   "source": [
    "Ans-"
   ]
  },
  {
   "cell_type": "code",
   "execution_count": 6,
   "id": "814cde89-1fae-405b-b20c-44aeee09f240",
   "metadata": {},
   "outputs": [
    {
     "name": "stdout",
     "output_type": "stream",
     "text": [
      "this is my except not writable [Errno 2] No such file or directory: 'test1.txt'\n"
     ]
    }
   ],
   "source": [
    "try:\n",
    "    f = open(\"test1.txt\" , \"r\") \n",
    "    f.write(\"write\")\n",
    "    f.close()\n",
    "except Exception as e:\n",
    "    print(\"this is my except not writable\" , e)"
   ]
  },
  {
   "cell_type": "code",
   "execution_count": 7,
   "id": "efa74c52-7a88-4579-ac39-2a9cd0811177",
   "metadata": {},
   "outputs": [
    {
     "name": "stdout",
     "output_type": "stream",
     "text": [
      "finally is mandatory\n"
     ]
    }
   ],
   "source": [
    "# using finally\n",
    "try:\n",
    "    o =open(\"lol.txt\" , \"w\")\n",
    "    o.write(\"this is my write\")\n",
    "    o.close()\n",
    "except Exception as l:\n",
    "    print(\"my exception\" ,l)\n",
    "finally:\n",
    "    print(\"finally is mandatory\")"
   ]
  },
  {
   "cell_type": "markdown",
   "id": "09e4e0e7-a026-4b53-ba54-05cea7e33680",
   "metadata": {},
   "source": [
    "Q3. Which python statment are used to catch and handle exception?Explain with an example."
   ]
  },
  {
   "cell_type": "markdown",
   "id": "8667d5eb-c730-4fb1-a326-cce919a7be7c",
   "metadata": {},
   "source": [
    "Ans-"
   ]
  },
  {
   "cell_type": "markdown",
   "id": "70d7133e-14aa-47f4-bcdf-b285746a9a69",
   "metadata": {},
   "source": [
    "In Python, the statements used to raise exceptions are 'raise' and to handle'exceptions are 'try' and 'except'."
   ]
  },
  {
   "cell_type": "code",
   "execution_count": 15,
   "id": "ed6f5427-6962-4d5b-832b-e82f7ba473b8",
   "metadata": {},
   "outputs": [
    {
     "name": "stdout",
     "output_type": "stream",
     "text": [
      "Result: Cannot divide by zero\n"
     ]
    }
   ],
   "source": [
    "def safe_divide(a, b):\n",
    "    try:\n",
    "        result = a / b\n",
    "        return result\n",
    "    except ZeroDivisionError:\n",
    "        return \"Cannot divide by zero\"\n",
    "\n",
    "numerator = 10\n",
    "denominator = 0\n",
    "\n",
    "result = safe_divide(numerator, denominator)\n",
    "\n",
    "print(\"Result:\", result)\n"
   ]
  },
  {
   "cell_type": "markdown",
   "id": "97e78562-1314-4afe-b902-6ca974582fc9",
   "metadata": {},
   "source": [
    "Q4.Explain with an example:\n",
    "    a. try and else\n",
    "    b. finally\n",
    "    c. raise"
   ]
  },
  {
   "cell_type": "markdown",
   "id": "98e1b79e-77cf-44b8-8f8d-69666a993d8d",
   "metadata": {},
   "source": [
    "Ans-"
   ]
  },
  {
   "cell_type": "markdown",
   "id": "0c9864a0-fbfd-42e8-8431-7547bb43cf8f",
   "metadata": {},
   "source": [
    "try and else-"
   ]
  },
  {
   "cell_type": "code",
   "execution_count": 16,
   "id": "a8b17be0-36ba-4ce6-96e3-c503c1eaee87",
   "metadata": {},
   "outputs": [
    {
     "name": "stdout",
     "output_type": "stream",
     "text": [
      "this will be executed with else\n"
     ]
    }
   ],
   "source": [
    "try:\n",
    "    a = open(\"osama\" , \"w\")\n",
    "    a.write(\"this is my writing\")\n",
    "    a.close()\n",
    "except Exception as e:\n",
    "    print(\"this is my exception block\" , e)\n",
    "else:\n",
    "    f.close()\n",
    "    print(\"this will be executed with else\")"
   ]
  },
  {
   "cell_type": "markdown",
   "id": "3e5cf3d1-fd30-4f69-a35e-aa460e02cde7",
   "metadata": {},
   "source": [
    "finally-"
   ]
  },
  {
   "cell_type": "code",
   "execution_count": 17,
   "id": "91f344d0-a92d-49ac-8269-7c7264b8f436",
   "metadata": {},
   "outputs": [
    {
     "name": "stdout",
     "output_type": "stream",
     "text": [
      "my exception  [Errno 2] No such file or directory: 'osama2.txt'\n",
      "finally is here and finally is mandatory\n"
     ]
    }
   ],
   "source": [
    "try:\n",
    "    osa =open(\"osama2.txt\" , \"r\")\n",
    "    osa.write(\"this is my write\")\n",
    "    osa.close()\n",
    "except Exception as l:\n",
    "    print(\"my exception \" ,l)\n",
    "finally:\n",
    "    print(\"finally is here and finally is mandatory\")"
   ]
  },
  {
   "cell_type": "code",
   "execution_count": 1,
   "id": "5677e41c-6848-4cf0-9051-2831afbf995d",
   "metadata": {},
   "outputs": [
    {
     "name": "stdout",
     "output_type": "stream",
     "text": [
      "showing error: cannot divided by zero\n"
     ]
    }
   ],
   "source": [
    "def divide(a,b):\n",
    "    if b==0:\n",
    "        raise ZeroDivisionError (\"cannot divided by zero\")\n",
    "    return a/b\n",
    "numerator = 10\n",
    "denominator = 0\n",
    "\n",
    "try :\n",
    "    result =divide(numerator,denominator)\n",
    "    print(\"my result:\" , result)\n",
    "    \n",
    "except ZeroDivisionError as e:\n",
    "    print(\"showing error:\" , e)"
   ]
  },
  {
   "cell_type": "markdown",
   "id": "d6653efa-a3d3-41a9-877a-7fc09c52e066",
   "metadata": {},
   "source": [
    "Q5. Whatv is custom exception in python?why do we need custom exceptions?explain with an example."
   ]
  },
  {
   "cell_type": "markdown",
   "id": "984197e5-5801-456d-ad4e-3d1bec4cf3a2",
   "metadata": {},
   "source": [
    "Ans-\n"
   ]
  },
  {
   "cell_type": "markdown",
   "id": "7d7fe70d-a94f-49db-b7a7-a24b6f6a0b6e",
   "metadata": {},
   "source": [
    "custom exception (also known as a custom exception class) is an exception that you define yourself by creating a new class that inherits from the built-in Exception class or one of its subclasses. Custom exceptions allow you to represent specific error conditions or exceptional situations that are relevant to your application's domain."
   ]
  },
  {
   "cell_type": "code",
   "execution_count": 2,
   "id": "1b2a624e-1ece-4861-997b-bfb72fac25ec",
   "metadata": {},
   "outputs": [],
   "source": [
    "class age(Exception):\n",
    "    pass\n",
    "    \n",
    "\n",
    "           "
   ]
  },
  {
   "cell_type": "code",
   "execution_count": 9,
   "id": "2346c515-dc2e-4d27-953f-c8414665514d",
   "metadata": {},
   "outputs": [
    {
     "name": "stdin",
     "output_type": "stream",
     "text": [
      "your age 21\n"
     ]
    },
    {
     "name": "stdout",
     "output_type": "stream",
     "text": [
      "correct age for this\n"
     ]
    }
   ],
   "source": [
    "age1 = int(input(\"your age\"))\n",
    "try:\n",
    "    if age1 <30:\n",
    "        print(\"correct age for this\")\n",
    "    elif age1 <20:\n",
    "        print(\"corerct age for this\")\n",
    "        \n",
    "    else :\n",
    "        raise age \n",
    "except age:\n",
    "    print(\"this is custom exception\")\n",
    "    "
   ]
  },
  {
   "cell_type": "markdown",
   "id": "c8b2144e-cd81-45a8-b5fc-3bc2ce58fb3b",
   "metadata": {},
   "source": [
    "Q6. Create a custom exception class.Use this class to handle an exception."
   ]
  },
  {
   "cell_type": "markdown",
   "id": "28968961-5a1c-40cf-b62b-b2050c70aabb",
   "metadata": {},
   "source": [
    "Ans-"
   ]
  },
  {
   "cell_type": "code",
   "execution_count": 2,
   "id": "389255ac-36cf-4e53-ba50-fa5d7e00ebbf",
   "metadata": {},
   "outputs": [],
   "source": [
    "class school(Exception):\n",
    "    pass\n",
    "    \n",
    "    "
   ]
  },
  {
   "cell_type": "code",
   "execution_count": 4,
   "id": "29709da0-70b0-4db1-b80e-74e2a0ab8ebf",
   "metadata": {},
   "outputs": [
    {
     "name": "stdin",
     "output_type": "stream",
     "text": [
      "enter your roll number 300\n"
     ]
    },
    {
     "name": "stdout",
     "output_type": "stream",
     "text": [
      "you are not in our section , and this is  custom exceptional case\n"
     ]
    }
   ],
   "source": [
    "roll_num = int(input(\"enter your roll number\"))\n",
    "try:\n",
    "    if roll_num <=100:\n",
    "         print(\"your section number is 2\")\n",
    "    elif roll_num <=200:\n",
    "        print(\"your section number is 5\")\n",
    "    else:\n",
    "        raise school\n",
    "except school:\n",
    "    print(\"you are not in our section , and this is  custom exceptional case\")\n",
    "        "
   ]
  },
  {
   "cell_type": "code",
   "execution_count": null,
   "id": "24647f1e-0952-4447-a75f-8d1176bc277a",
   "metadata": {},
   "outputs": [],
   "source": []
  }
 ],
 "metadata": {
  "kernelspec": {
   "display_name": "Python 3 (ipykernel)",
   "language": "python",
   "name": "python3"
  },
  "language_info": {
   "codemirror_mode": {
    "name": "ipython",
    "version": 3
   },
   "file_extension": ".py",
   "mimetype": "text/x-python",
   "name": "python",
   "nbconvert_exporter": "python",
   "pygments_lexer": "ipython3",
   "version": "3.10.8"
  }
 },
 "nbformat": 4,
 "nbformat_minor": 5
}
